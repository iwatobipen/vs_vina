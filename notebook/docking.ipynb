{
 "cells": [
  {
   "cell_type": "code",
   "execution_count": 1,
   "id": "efficient-arena",
   "metadata": {},
   "outputs": [],
   "source": [
    "from rdkit import Chem\n",
    "from rdkit.Chem.rdMolTransforms import ComputeCentroid\n",
    "from vina import Vina\n",
    "v = Vina(sf_name='vina')\n",
    "lig = Chem.SDMolSupplier('../1iep_ligandH.sdf', removeHs=False)[0]"
   ]
  },
  {
   "cell_type": "code",
   "execution_count": 2,
   "id": "minute-oriental",
   "metadata": {},
   "outputs": [],
   "source": [
    "centroid = ComputeCentroid(lig.GetConformer())\n",
    "\n",
    "v.set_receptor('../generatedfile/1iep_receptor.pdbqt')\n",
    "v.set_ligand_from_file('../generatedfile/1iep_ligand.pdbqt')"
   ]
  },
  {
   "cell_type": "code",
   "execution_count": 3,
   "id": "related-neighbor",
   "metadata": {},
   "outputs": [
    {
     "name": "stdout",
     "output_type": "stream",
     "text": [
      "15.6138918918919 53.38013513513513 15.45483783783784\n"
     ]
    }
   ],
   "source": [
    "print(centroid.x, centroid.y, centroid.z)"
   ]
  },
  {
   "cell_type": "code",
   "execution_count": 4,
   "id": "needed-potter",
   "metadata": {},
   "outputs": [],
   "source": [
    "v.compute_vina_maps(center=[centroid.x, centroid.y, centroid.z], box_size=[20, 20, 20])"
   ]
  },
  {
   "cell_type": "code",
   "execution_count": 5,
   "id": "according-panel",
   "metadata": {},
   "outputs": [
    {
     "name": "stdout",
     "output_type": "stream",
     "text": [
      "Score after minimization : -13.247 (kcal/mol)\n"
     ]
    }
   ],
   "source": [
    "energy_minimized = v.optimize()\n",
    "print('Score after minimization : %.3f (kcal/mol)' % energy_minimized[0])\n",
    "v.write_pose('1iep_ligand_minimized.pdbqt', overwrite=True)"
   ]
  },
  {
   "cell_type": "code",
   "execution_count": 6,
   "id": "concerned-milton",
   "metadata": {},
   "outputs": [],
   "source": [
    "# Dock the ligand\n",
    "v.dock(exhaustiveness=32, n_poses=20)\n",
    "v.write_poses('1iep_ligand_vina_out.pdbqt', n_poses=10, overwrite=True)"
   ]
  },
  {
   "cell_type": "code",
   "execution_count": null,
   "id": "angry-vegetarian",
   "metadata": {},
   "outputs": [],
   "source": []
  }
 ],
 "metadata": {
  "kernelspec": {
   "display_name": "Python 3",
   "language": "python",
   "name": "python3"
  },
  "language_info": {
   "codemirror_mode": {
    "name": "ipython",
    "version": 3
   },
   "file_extension": ".py",
   "mimetype": "text/x-python",
   "name": "python",
   "nbconvert_exporter": "python",
   "pygments_lexer": "ipython3",
   "version": "3.7.9"
  }
 },
 "nbformat": 4,
 "nbformat_minor": 5
}
