{
 "cells": [
  {
   "cell_type": "code",
   "execution_count": 1,
   "id": "balanced-court",
   "metadata": {},
   "outputs": [
    {
     "name": "stdout",
     "output_type": "stream",
     "text": [
      "['../data/ligands/ZINC00000179.pdbqt', '../data/ligands/imatinib.pdbqt', '../data/ligands/ZINC00000570.pdbqt', '../data/ligands/ZINC00000171.pdbqt']\n"
     ]
    }
   ],
   "source": [
    "from rdkit import Chem\n",
    "from rdkit.Chem.rdMolTransforms import ComputeCentroid\n",
    "from pathlib import Path\n",
    "lig = Chem.SDMolSupplier('../1iep_ligandH.sdf', removeHs=False)[0]\n",
    "centroid = ComputeCentroid(lig.GetConformer())\n",
    "\n",
    "from vina import Vina\n",
    "\n",
    "import glob\n",
    "lig_files = glob.glob('../data/ligands/*.pdbqt')\n",
    "print(lig_files)"
   ]
  },
  {
   "cell_type": "code",
   "execution_count": 2,
   "id": "likely-hollow",
   "metadata": {},
   "outputs": [
    {
     "name": "stdout",
     "output_type": "stream",
     "text": [
      "15.6138918918919 53.38013513513513 15.45483783783784\n"
     ]
    }
   ],
   "source": [
    "print(centroid.x, centroid.y, centroid.z)"
   ]
  },
  {
   "cell_type": "code",
   "execution_count": 3,
   "id": "endangered-selling",
   "metadata": {},
   "outputs": [
    {
     "name": "stdout",
     "output_type": "stream",
     "text": [
      "Score after minimization : 1006320659.702 (kcal/mol)\n",
      "Score after minimization : 910074457.314 (kcal/mol)\n",
      "Score after minimization : 486005145.186 (kcal/mol)\n",
      "Score after minimization : 852214995.626 (kcal/mol)\n"
     ]
    }
   ],
   "source": [
    "for lig in lig_files:\n",
    "    fname = Path(lig).stem\n",
    "    v = Vina(sf_name='vina')\n",
    "    v.set_receptor('../generatedfile/1iep_receptor.pdbqt')\n",
    "    v.set_ligand_from_file(lig)\n",
    "    v.compute_vina_maps(center=[centroid.x, centroid.y, centroid.z], box_size=[20, 20, 20])\n",
    "    energy_minimized = v.optimize()\n",
    "    print('Score after minimization : %.3f (kcal/mol)' % energy_minimized[0])\n",
    "    v.write_pose(f'{fname}_minimized.pdbqt', overwrite=True)\n",
    "    v.dock(exhaustiveness=8, n_poses=5)\n",
    "    v.write_poses(f'1iep_{fname}_vina_out.pdbqt', n_poses=10, overwrite=True)"
   ]
  },
  {
   "cell_type": "code",
   "execution_count": 4,
   "id": "broadband-bumper",
   "metadata": {},
   "outputs": [
    {
     "name": "stdout",
     "output_type": "stream",
     "text": [
      "['1iep_ZINC00000171_vina_out.pdbqt', '1iep_ZINC00000179_vina_out.pdbqt', '1iep_ZINC00000570_vina_out.pdbqt', '1iep_imatinib_vina_out.pdbqt']\n"
     ]
    }
   ],
   "source": [
    "from pymol import cmd\n",
    "receptor = '../generatedfile/1iep_receptor.pdbqt'\n",
    "docked_ligands = glob.glob('1iep_ZINC*_vina_out.pdbqt')\n",
    "docked_ligands.append('1iep_imatinib_vina_out.pdbqt')\n",
    "\n",
    "print(docked_ligands)"
   ]
  },
  {
   "cell_type": "code",
   "execution_count": 5,
   "id": "promotional-exploration",
   "metadata": {},
   "outputs": [],
   "source": [
    "cmd.delete('all')\n",
    "cmd.load(receptor)\n",
    "for l in docked_ligands:\n",
    "    cmd.load(l)\n",
    "    target_obj = l.replace('.pdbqt', '')\n",
    "    cmd.split_states(target_obj)\n",
    "    cmd.delete(target_obj)\n",
    "    cmd.group(target_obj, target_obj+'*')\n",
    "cmd.save('vina_docked_complex.pse')\n"
   ]
  },
  {
   "cell_type": "code",
   "execution_count": null,
   "id": "opened-badge",
   "metadata": {},
   "outputs": [],
   "source": []
  }
 ],
 "metadata": {
  "kernelspec": {
   "display_name": "Python 3",
   "language": "python",
   "name": "python3"
  },
  "language_info": {
   "codemirror_mode": {
    "name": "ipython",
    "version": 3
   },
   "file_extension": ".py",
   "mimetype": "text/x-python",
   "name": "python",
   "nbconvert_exporter": "python",
   "pygments_lexer": "ipython3",
   "version": "3.7.9"
  }
 },
 "nbformat": 4,
 "nbformat_minor": 5
}
